{
 "cells": [
  {
   "cell_type": "code",
   "execution_count": 1,
   "id": "c14cdfa1",
   "metadata": {},
   "outputs": [],
   "source": [
    "import pandas as pd"
   ]
  },
  {
   "cell_type": "code",
   "execution_count": 3,
   "id": "626d303a",
   "metadata": {},
   "outputs": [
    {
     "name": "stdout",
     "output_type": "stream",
     "text": [
      "Requirement already satisfied: pypdf2 in c:\\users\\divya\\anaconda3\\lib\\site-packages (3.0.1)\n",
      "Requirement already satisfied: typing_extensions>=3.10.0.0 in c:\\users\\divya\\anaconda3\\lib\\site-packages (from pypdf2) (4.1.1)\n"
     ]
    },
    {
     "name": "stderr",
     "output_type": "stream",
     "text": [
      "\n",
      "[notice] A new release of pip is available: 23.1 -> 23.1.2\n",
      "[notice] To update, run: python.exe -m pip install --upgrade pip\n"
     ]
    }
   ],
   "source": [
    "!pip install pypdf2"
   ]
  },
  {
   "cell_type": "code",
   "execution_count": 4,
   "id": "eedc39cd",
   "metadata": {},
   "outputs": [
    {
     "data": {
      "text/html": [
       "<div>\n",
       "<style scoped>\n",
       "    .dataframe tbody tr th:only-of-type {\n",
       "        vertical-align: middle;\n",
       "    }\n",
       "\n",
       "    .dataframe tbody tr th {\n",
       "        vertical-align: top;\n",
       "    }\n",
       "\n",
       "    .dataframe thead th {\n",
       "        text-align: right;\n",
       "    }\n",
       "</style>\n",
       "<table border=\"1\" class=\"dataframe\">\n",
       "  <thead>\n",
       "    <tr style=\"text-align: right;\">\n",
       "      <th></th>\n",
       "      <th>0</th>\n",
       "    </tr>\n",
       "  </thead>\n",
       "  <tbody>\n",
       "    <tr>\n",
       "      <th>0</th>\n",
       "      <td>file_2300.txt</td>\n",
       "    </tr>\n",
       "    <tr>\n",
       "      <th>1</th>\n",
       "      <td>0.254897</td>\n",
       "    </tr>\n",
       "    <tr>\n",
       "      <th>2</th>\n",
       "      <td>0.07087</td>\n",
       "    </tr>\n",
       "    <tr>\n",
       "      <th>3</th>\n",
       "      <td>0.034026</td>\n",
       "    </tr>\n",
       "    <tr>\n",
       "      <th>4</th>\n",
       "      <td>0.001088</td>\n",
       "    </tr>\n",
       "    <tr>\n",
       "      <th>...</th>\n",
       "      <td>...</td>\n",
       "    </tr>\n",
       "    <tr>\n",
       "      <th>19522</th>\n",
       "      <td>0.001002</td>\n",
       "    </tr>\n",
       "    <tr>\n",
       "      <th>19523</th>\n",
       "      <td>0.0005</td>\n",
       "    </tr>\n",
       "    <tr>\n",
       "      <th>19524</th>\n",
       "      <td>0.114143</td>\n",
       "    </tr>\n",
       "    <tr>\n",
       "      <th>19525</th>\n",
       "      <td>0.008754</td>\n",
       "    </tr>\n",
       "    <tr>\n",
       "      <th>19526</th>\n",
       "      <td>0.004357</td>\n",
       "    </tr>\n",
       "  </tbody>\n",
       "</table>\n",
       "<p>19527 rows × 1 columns</p>\n",
       "</div>"
      ],
      "text/plain": [
       "                   0\n",
       "0      file_2300.txt\n",
       "1           0.254897\n",
       "2            0.07087\n",
       "3           0.034026\n",
       "4           0.001088\n",
       "...              ...\n",
       "19522       0.001002\n",
       "19523         0.0005\n",
       "19524       0.114143\n",
       "19525       0.008754\n",
       "19526       0.004357\n",
       "\n",
       "[19527 rows x 1 columns]"
      ]
     },
     "execution_count": 4,
     "metadata": {},
     "output_type": "execute_result"
    }
   ],
   "source": [
    "df = pd.read_excel(\"D:\\Risidio\\Prom Project\\script 2\\Movie_Scripts_Sample_Submission.xlsx\")\n",
    "result = df.values.flatten()\n",
    "\n",
    "df9 = pd.DataFrame(result)\n",
    "df9\n",
    "\n"
   ]
  },
  {
   "cell_type": "code",
   "execution_count": 5,
   "id": "97840075",
   "metadata": {},
   "outputs": [
    {
     "data": {
      "text/html": [
       "<div>\n",
       "<style scoped>\n",
       "    .dataframe tbody tr th:only-of-type {\n",
       "        vertical-align: middle;\n",
       "    }\n",
       "\n",
       "    .dataframe tbody tr th {\n",
       "        vertical-align: top;\n",
       "    }\n",
       "\n",
       "    .dataframe thead th {\n",
       "        text-align: right;\n",
       "    }\n",
       "</style>\n",
       "<table border=\"1\" class=\"dataframe\">\n",
       "  <thead>\n",
       "    <tr style=\"text-align: right;\">\n",
       "      <th></th>\n",
       "      <th>Text</th>\n",
       "    </tr>\n",
       "  </thead>\n",
       "  <tbody>\n",
       "    <tr>\n",
       "      <th>0</th>\n",
       "      <td>file_2300.txt\\n file_809.txt\\nfile_1383.txt\\n ...</td>\n",
       "    </tr>\n",
       "  </tbody>\n",
       "</table>\n",
       "</div>"
      ],
      "text/plain": [
       "                                                Text\n",
       "0  file_2300.txt\\n file_809.txt\\nfile_1383.txt\\n ..."
      ]
     },
     "execution_count": 5,
     "metadata": {},
     "output_type": "execute_result"
    }
   ],
   "source": [
    "txt_file_path = r\"D:\\Risidio\\Prom Project\\script 1\\SW_EpisodeIV.txt\"\n",
    "csv_file_path = r\"D:\\Risidio\\Prom Project\\script 1\\SW_EpisodeIV.csv\"\n",
    "\n",
    "single_row = df.iloc[:, 0].to_string(index=False, header=False)\n",
    "single_row\n",
    "df10 = pd.DataFrame([single_row], columns=['Text'])\n",
    "df10.head()\n",
    "\n"
   ]
  },
  {
   "cell_type": "code",
   "execution_count": 6,
   "id": "43352d90",
   "metadata": {},
   "outputs": [
    {
     "data": {
      "text/html": [
       "<div>\n",
       "<style scoped>\n",
       "    .dataframe tbody tr th:only-of-type {\n",
       "        vertical-align: middle;\n",
       "    }\n",
       "\n",
       "    .dataframe tbody tr th {\n",
       "        vertical-align: top;\n",
       "    }\n",
       "\n",
       "    .dataframe thead th {\n",
       "        text-align: right;\n",
       "    }\n",
       "</style>\n",
       "<table border=\"1\" class=\"dataframe\">\n",
       "  <thead>\n",
       "    <tr style=\"text-align: right;\">\n",
       "      <th></th>\n",
       "      <th>Text</th>\n",
       "    </tr>\n",
       "  </thead>\n",
       "  <tbody>\n",
       "    <tr>\n",
       "      <th>0</th>\n",
       "      <td>file_2300.txt\\n file_809.txt\\nfile_1383.txt\\n ...</td>\n",
       "    </tr>\n",
       "  </tbody>\n",
       "</table>\n",
       "</div>"
      ],
      "text/plain": [
       "                                                Text\n",
       "0  file_2300.txt\\n file_809.txt\\nfile_1383.txt\\n ..."
      ]
     },
     "execution_count": 6,
     "metadata": {},
     "output_type": "execute_result"
    }
   ],
   "source": [
    "txt_file_path = r\"D:\\Risidio\\Prom Project\\script 1\\SW_EpisodeV.txt\"\n",
    "csv_file_path = r\"D:\\Risidio\\Prom Project\\script 1\\SW_EpisodeV.csv\"\n",
    "\n",
    "single_row = df.iloc[:, 0].to_string(index=False, header=False)\n",
    "single_row\n",
    "df1 = pd.DataFrame([single_row], columns=['Text'])\n",
    "df1.head()\n",
    "\n"
   ]
  },
  {
   "cell_type": "code",
   "execution_count": 7,
   "id": "38ebd172",
   "metadata": {},
   "outputs": [
    {
     "data": {
      "text/html": [
       "<div>\n",
       "<style scoped>\n",
       "    .dataframe tbody tr th:only-of-type {\n",
       "        vertical-align: middle;\n",
       "    }\n",
       "\n",
       "    .dataframe tbody tr th {\n",
       "        vertical-align: top;\n",
       "    }\n",
       "\n",
       "    .dataframe thead th {\n",
       "        text-align: right;\n",
       "    }\n",
       "</style>\n",
       "<table border=\"1\" class=\"dataframe\">\n",
       "  <thead>\n",
       "    <tr style=\"text-align: right;\">\n",
       "      <th></th>\n",
       "      <th>Text</th>\n",
       "    </tr>\n",
       "  </thead>\n",
       "  <tbody>\n",
       "    <tr>\n",
       "      <th>0</th>\n",
       "      <td>file_2300.txt\\n file_809.txt\\nfile_1383.txt\\n ...</td>\n",
       "    </tr>\n",
       "  </tbody>\n",
       "</table>\n",
       "</div>"
      ],
      "text/plain": [
       "                                                Text\n",
       "0  file_2300.txt\\n file_809.txt\\nfile_1383.txt\\n ..."
      ]
     },
     "execution_count": 7,
     "metadata": {},
     "output_type": "execute_result"
    }
   ],
   "source": [
    "txt_file_path = r\"D:\\Risidio\\Prom Project\\script 1\\SW_EpisodeVI.txt\"\n",
    "csv_file_path = r\"D:\\Risidio\\Prom Project\\script 1\\SW_EpisodeVI.csv\"\n",
    "\n",
    "single_row = df.iloc[:, 0].to_string(index=False, header=False)\n",
    "single_row\n",
    "df2 = pd.DataFrame([single_row], columns=['Text'])\n",
    "df2.head()\n",
    "\n"
   ]
  },
  {
   "cell_type": "code",
   "execution_count": 8,
   "id": "bd37e262",
   "metadata": {},
   "outputs": [
    {
     "data": {
      "text/html": [
       "<div>\n",
       "<style scoped>\n",
       "    .dataframe tbody tr th:only-of-type {\n",
       "        vertical-align: middle;\n",
       "    }\n",
       "\n",
       "    .dataframe tbody tr th {\n",
       "        vertical-align: top;\n",
       "    }\n",
       "\n",
       "    .dataframe thead th {\n",
       "        text-align: right;\n",
       "    }\n",
       "</style>\n",
       "<table border=\"1\" class=\"dataframe\">\n",
       "  <thead>\n",
       "    <tr style=\"text-align: right;\">\n",
       "      <th></th>\n",
       "      <th>Text</th>\n",
       "    </tr>\n",
       "  </thead>\n",
       "  <tbody>\n",
       "    <tr>\n",
       "      <th>0</th>\n",
       "      <td>0\\n    1\\n    2\\n    3\\n    4\\n    5\\n    ...</td>\n",
       "    </tr>\n",
       "  </tbody>\n",
       "</table>\n",
       "</div>"
      ],
      "text/plain": [
       "                                                Text\n",
       "0      0\\n    1\\n    2\\n    3\\n    4\\n    5\\n    ..."
      ]
     },
     "execution_count": 8,
     "metadata": {},
     "output_type": "execute_result"
    }
   ],
   "source": [
    " \n",
    "df5 = pd.read_csv(\"D:\\Risidio\\Prom Project\\script 3\\movie_metadata\\metacritic_reviews_cut_versions.csv\")\n",
    "\n",
    "single_row = df5.iloc[:, 0].to_string(index=False, header=False)\n",
    "single_row\n",
    "df3 = pd.DataFrame([single_row], columns=['Text'])\n",
    "df3.head()\n",
    "\n",
    "\n",
    "\n"
   ]
  },
  {
   "cell_type": "code",
   "execution_count": 9,
   "id": "aa426898",
   "metadata": {},
   "outputs": [
    {
     "data": {
      "text/html": [
       "<div>\n",
       "<style scoped>\n",
       "    .dataframe tbody tr th:only-of-type {\n",
       "        vertical-align: middle;\n",
       "    }\n",
       "\n",
       "    .dataframe tbody tr th {\n",
       "        vertical-align: top;\n",
       "    }\n",
       "\n",
       "    .dataframe thead th {\n",
       "        text-align: right;\n",
       "    }\n",
       "</style>\n",
       "<table border=\"1\" class=\"dataframe\">\n",
       "  <thead>\n",
       "    <tr style=\"text-align: right;\">\n",
       "      <th></th>\n",
       "      <th>Text</th>\n",
       "    </tr>\n",
       "  </thead>\n",
       "  <tbody>\n",
       "    <tr>\n",
       "      <th>0</th>\n",
       "      <td>120770\\n  132512\\n  118661\\n  215545\\n  1187...</td>\n",
       "    </tr>\n",
       "  </tbody>\n",
       "</table>\n",
       "</div>"
      ],
      "text/plain": [
       "                                                Text\n",
       "0    120770\\n  132512\\n  118661\\n  215545\\n  1187..."
      ]
     },
     "execution_count": 9,
     "metadata": {},
     "output_type": "execute_result"
    }
   ],
   "source": [
    "df6 = pd.read_csv( \"D:\\Risidio\\Prom Project\\script 3\\movie_metadata\\movie_meta_data.csv\")\n",
    "\n",
    "single_row = df6.iloc[:, 0].to_string(index=False, header=False)\n",
    "single_row\n",
    "df4 = pd.DataFrame([single_row], columns=['Text'])\n",
    "df4.head()\n",
    "\n",
    "\n"
   ]
  },
  {
   "cell_type": "code",
   "execution_count": 10,
   "id": "f9373dec",
   "metadata": {},
   "outputs": [
    {
     "data": {
      "text/html": [
       "<div>\n",
       "<style scoped>\n",
       "    .dataframe tbody tr th:only-of-type {\n",
       "        vertical-align: middle;\n",
       "    }\n",
       "\n",
       "    .dataframe tbody tr th {\n",
       "        vertical-align: top;\n",
       "    }\n",
       "\n",
       "    .dataframe thead th {\n",
       "        text-align: right;\n",
       "    }\n",
       "</style>\n",
       "<table border=\"1\" class=\"dataframe\">\n",
       "  <thead>\n",
       "    <tr style=\"text-align: right;\">\n",
       "      <th></th>\n",
       "      <th>Text</th>\n",
       "    </tr>\n",
       "  </thead>\n",
       "  <tbody>\n",
       "    <tr>\n",
       "      <th>0</th>\n",
       "      <td>A Tree Grows in Brooklyn_003...</td>\n",
       "    </tr>\n",
       "  </tbody>\n",
       "</table>\n",
       "</div>"
      ],
      "text/plain": [
       "                                                Text\n",
       "0                    A Tree Grows in Brooklyn_003..."
      ]
     },
     "execution_count": 10,
     "metadata": {},
     "output_type": "execute_result"
    }
   ],
   "source": [
    "\n",
    "df7 = pd.read_csv(\"D:\\Risidio\\Prom Project\\script 3\\movie_metadata\\screenplay_awards.csv\")\n",
    "single_row = df7.iloc[:, 0].to_string(index=False, header=False)\n",
    "single_row\n",
    "df5 = pd.DataFrame([single_row], columns=['Text'])\n",
    "df5.head()\n",
    "\n",
    "\n"
   ]
  },
  {
   "cell_type": "code",
   "execution_count": 11,
   "id": "78d6c4f3",
   "metadata": {},
   "outputs": [
    {
     "data": {
      "text/html": [
       "<div>\n",
       "<style scoped>\n",
       "    .dataframe tbody tr th:only-of-type {\n",
       "        vertical-align: middle;\n",
       "    }\n",
       "\n",
       "    .dataframe tbody tr th {\n",
       "        vertical-align: top;\n",
       "    }\n",
       "\n",
       "    .dataframe thead th {\n",
       "        text-align: right;\n",
       "    }\n",
       "</style>\n",
       "<table border=\"1\" class=\"dataframe\">\n",
       "  <thead>\n",
       "    <tr style=\"text-align: right;\">\n",
       "      <th></th>\n",
       "      <th>Text</th>\n",
       "    </tr>\n",
       "  </thead>\n",
       "  <tbody>\n",
       "    <tr>\n",
       "      <th>0</th>\n",
       "      <td>EXT. CITY STREET -...</td>\n",
       "    </tr>\n",
       "  </tbody>\n",
       "</table>\n",
       "</div>"
      ],
      "text/plain": [
       "                                                Text\n",
       "0                              EXT. CITY STREET -..."
      ]
     },
     "execution_count": 11,
     "metadata": {},
     "output_type": "execute_result"
    }
   ],
   "source": [
    "\n",
    "\n",
    "txt_file_path = r\"D:\\Risidio\\Prom Project\\script 4\\TERMINATOR 2 JUDGEMENT DAY.txt\"\n",
    "csv_file_path = r\"D:\\Risidio\\Prom Project\\script 4\\TERMINATOR 2 JUDGEMENT DAY.csv\"\n",
    "df8 = pd.read_csv(\"D:\\Risidio\\Prom Project\\script 4\\TERMINATOR 2 JUDGEMENT DAY.csv\")\n",
    "single_row = df8.iloc[:, 0].to_string(index=False, header=False)\n",
    "single_row\n",
    "df6 = pd.DataFrame([single_row], columns=['Text'])\n",
    "df6.head()\n"
   ]
  },
  {
   "cell_type": "code",
   "execution_count": 12,
   "id": "6a9bab03",
   "metadata": {},
   "outputs": [
    {
     "data": {
      "text/html": [
       "<div>\n",
       "<style scoped>\n",
       "    .dataframe tbody tr th:only-of-type {\n",
       "        vertical-align: middle;\n",
       "    }\n",
       "\n",
       "    .dataframe tbody tr th {\n",
       "        vertical-align: top;\n",
       "    }\n",
       "\n",
       "    .dataframe thead th {\n",
       "        text-align: right;\n",
       "    }\n",
       "</style>\n",
       "<table border=\"1\" class=\"dataframe\">\n",
       "  <thead>\n",
       "    <tr style=\"text-align: right;\">\n",
       "      <th></th>\n",
       "      <th>Text</th>\n",
       "    </tr>\n",
       "  </thead>\n",
       "  <tbody>\n",
       "    <tr>\n",
       "      <th>0</th>\n",
       "      <td>...</td>\n",
       "    </tr>\n",
       "  </tbody>\n",
       "</table>\n",
       "</div>"
      ],
      "text/plain": [
       "                                                Text\n",
       "0                                                ..."
      ]
     },
     "execution_count": 12,
     "metadata": {},
     "output_type": "execute_result"
    }
   ],
   "source": [
    "\n",
    "\n",
    "txt_file_path = r\"D:\\Risidio\\Prom Project\\script 4\\Terminator Salvation.txt\"\n",
    "csv_file_path = r\"D:\\Risidio\\Prom Project\\script 4\\Terminator Salvation.csv\"\n",
    "\n",
    "\n",
    "df9 = pd.read_csv(csv_file_path, header=None)\n",
    "single_row = df9.iloc[:, 0].to_string(index=False, header=False)\n",
    "single_row\n",
    "df7 = pd.DataFrame([single_row], columns=['Text'])\n",
    "df7.head()\n",
    "\n",
    "\n"
   ]
  },
  {
   "cell_type": "code",
   "execution_count": 13,
   "id": "7681b5b9",
   "metadata": {},
   "outputs": [
    {
     "data": {
      "text/html": [
       "<div>\n",
       "<style scoped>\n",
       "    .dataframe tbody tr th:only-of-type {\n",
       "        vertical-align: middle;\n",
       "    }\n",
       "\n",
       "    .dataframe tbody tr th {\n",
       "        vertical-align: top;\n",
       "    }\n",
       "\n",
       "    .dataframe thead th {\n",
       "        text-align: right;\n",
       "    }\n",
       "</style>\n",
       "<table border=\"1\" class=\"dataframe\">\n",
       "  <thead>\n",
       "    <tr style=\"text-align: right;\">\n",
       "      <th></th>\n",
       "      <th>Text</th>\n",
       "    </tr>\n",
       "  </thead>\n",
       "  <tbody>\n",
       "    <tr>\n",
       "      <th>0</th>\n",
       "      <td>...</td>\n",
       "    </tr>\n",
       "  </tbody>\n",
       "</table>\n",
       "</div>"
      ],
      "text/plain": [
       "                                                Text\n",
       "0                                                ..."
      ]
     },
     "execution_count": 13,
     "metadata": {},
     "output_type": "execute_result"
    }
   ],
   "source": [
    "\n",
    "\n",
    "txt_file_path = r\"D:\\Risidio\\Prom Project\\script 4\\Terminator.txt\"\n",
    "csv_file_path = r\"D:\\Risidio\\Prom Project\\script 4\\Terminator.csv\"\n",
    "\n",
    "# Read the text file into a DataFrame\n",
    "df10 = pd.read_csv(csv_file_path, header=None)\n",
    "\n",
    "single_row = df10.iloc[:, 0].to_string(index=False, header=False)\n",
    "single_row\n",
    "df8 = pd.DataFrame([single_row], columns=['Text'])\n",
    "df8.head()\n"
   ]
  },
  {
   "cell_type": "code",
   "execution_count": 14,
   "id": "6e35fceb",
   "metadata": {},
   "outputs": [
    {
     "name": "stdout",
     "output_type": "stream",
     "text": [
      "                                                Text\n",
      "0  THE ORIGINAL  SCREENPLAYTHE ORIGINAL  SCREENPL...\n"
     ]
    }
   ],
   "source": [
    "import PyPDF2\n",
    "\n",
    "pdf_file_path = r\"D:\\Risidio\\Prom Project\\script 5\\IndianMovieWebSeriesScripts\\3Idiots.pdf\"\n",
    "txt_file_path = r\"D:\\Risidio\\Prom Project\\script 5\\IndianMovieWebSeriesScripts\\3Idiots.txt\"\n",
    "\n",
    "\n",
    "with open(pdf_file_path, 'rb') as pdf_file:\n",
    "    pdf_reader = PyPDF2.PdfReader(pdf_file)\n",
    "\n",
    "    \n",
    "    text_pages = []\n",
    "    for page_num in range(len(pdf_reader.pages)):\n",
    "        page = pdf_reader.pages[page_num]\n",
    "        text = page.extract_text()\n",
    "        text_pages.append(text)\n",
    "\n",
    "\n",
    "with open(txt_file_path, 'w', encoding='utf-8') as txt_file:\n",
    "    for page_text in text_pages:\n",
    "        txt_file.write(page_text)\n",
    "with open(txt_file_path, 'r', encoding='utf-8') as txt_file:\n",
    "    text = txt_file.read()\n",
    "\n",
    "#print(text)\n",
    "\n",
    "df11 = pd.DataFrame({'Text': [text]})\n",
    "print(df11)\n",
    "\n",
    "\n"
   ]
  },
  {
   "cell_type": "code",
   "execution_count": 15,
   "id": "743a5fb2",
   "metadata": {},
   "outputs": [
    {
     "name": "stdout",
     "output_type": "stream",
     "text": [
      "                                                Text\n",
      "0  \\t1\\tGji      Hi all, When I was asked for the...\n"
     ]
    }
   ],
   "source": [
    "\n",
    "pdf_file_path = r\"D:\\Risidio\\Prom Project\\script 5\\IndianMovieWebSeriesScripts\\Andhadhun.pdf\"\n",
    "csv_file_path = r\"D:\\Risidio\\Prom Project\\script 5\\IndianMovieWebSeriesScripts\\Andhadhun.csv\"\n",
    "\n",
    "\n",
    "with open(pdf_file_path, 'rb') as pdf_file:\n",
    "    pdf_reader = PyPDF2.PdfReader(pdf_file)\n",
    "\n",
    "    \n",
    "    text_pages = []\n",
    "    for page_num in range(len(pdf_reader.pages)):\n",
    "        page = pdf_reader.pages[page_num]\n",
    "        text = page.extract_text()\n",
    "        text_pages.append(text)\n",
    "\n",
    "\n",
    "with open(txt_file_path, 'w', encoding='utf-8') as txt_file:\n",
    "    for page_text in text_pages:\n",
    "        txt_file.write(page_text)\n",
    "with open(txt_file_path, 'r', encoding='utf-8') as txt_file:\n",
    "    text = txt_file.read()\n",
    "\n",
    "#print(text)\n",
    "\n",
    "df12 = pd.DataFrame({'Text': [text]})\n",
    "print(df12)\n",
    "\n",
    "\n",
    "\n",
    "\n",
    "\n",
    "\n"
   ]
  },
  {
   "cell_type": "code",
   "execution_count": 16,
   "id": "f0adc529",
   "metadata": {},
   "outputs": [
    {
     "name": "stdout",
     "output_type": "stream",
     "text": [
      "                                                Text\n",
      "0  EXT. space - NIGHT 1 1\\nIn Space, millions of ...\n"
     ]
    }
   ],
   "source": [
    "\n",
    "\n",
    "pdf_file_path = r\"D:\\Risidio\\Prom Project\\script 5\\IndianMovieWebSeriesScripts\\PK.pdf\"\n",
    "csv_file_path = r\"D:\\Risidio\\Prom Project\\script 5\\IndianMovieWebSeriesScripts\\PK.csv\"\n",
    "\n",
    "with open(pdf_file_path, 'rb') as pdf_file:\n",
    "    pdf_reader = PyPDF2.PdfReader(pdf_file)\n",
    "\n",
    "    \n",
    "    text_pages = []\n",
    "    for page_num in range(len(pdf_reader.pages)):\n",
    "        page = pdf_reader.pages[page_num]\n",
    "        text = page.extract_text()\n",
    "        text_pages.append(text)\n",
    "\n",
    "\n",
    "with open(txt_file_path, 'w', encoding='utf-8') as txt_file:\n",
    "    for page_text in text_pages:\n",
    "        txt_file.write(page_text)\n",
    "with open(txt_file_path, 'r', encoding='utf-8') as txt_file:\n",
    "    text = txt_file.read()\n",
    "\n",
    "#print(text)\n",
    "\n",
    "df13 = pd.DataFrame({'Text': [text]})\n",
    "print(df13)\n",
    "\n"
   ]
  },
  {
   "cell_type": "code",
   "execution_count": 17,
   "id": "31cf811a",
   "metadata": {},
   "outputs": [
    {
     "name": "stdout",
     "output_type": "stream",
     "text": [
      "                                                Text\n",
      "0  © Meghna Gulzar 2017        DHARMA PRODUCTIONS...\n"
     ]
    }
   ],
   "source": [
    "import PyPDF2\n",
    "import csv\n",
    "\n",
    "pdf_file_path = r\"D:\\Risidio\\Prom Project\\script 5\\IndianMovieWebSeriesScripts\\Raazi.pdf\"\n",
    "csv_file_path = r\"D:\\Risidio\\Prom Project\\script 5\\IndianMovieWebSeriesScripts\\Raazi.csv\"\n",
    "\n",
    "with open(pdf_file_path, 'rb') as pdf_file:\n",
    "    pdf_reader = PyPDF2.PdfReader(pdf_file)\n",
    "\n",
    "    \n",
    "    text_pages = []\n",
    "    for page_num in range(len(pdf_reader.pages)):\n",
    "        page = pdf_reader.pages[page_num]\n",
    "        text = page.extract_text()\n",
    "        text_pages.append(text)\n",
    "\n",
    "\n",
    "with open(txt_file_path, 'w', encoding='utf-8') as txt_file:\n",
    "    for page_text in text_pages:\n",
    "        txt_file.write(page_text)\n",
    "with open(txt_file_path, 'r', encoding='utf-8') as txt_file:\n",
    "    text = txt_file.read()\n",
    "\n",
    "#print(text)\n",
    "\n",
    "df14 = pd.DataFrame({'Text': [text]})\n",
    "print(df14)\n",
    "\n",
    "\n",
    "\n"
   ]
  },
  {
   "cell_type": "code",
   "execution_count": 18,
   "id": "a3794ab8",
   "metadata": {},
   "outputs": [
    {
     "name": "stdout",
     "output_type": "stream",
     "text": [
      "                                                Text\n",
      "0  STREE\\nWRITTEN BY\\nRAJ & DK\\n(C) D2R FILMS 201...\n"
     ]
    }
   ],
   "source": [
    "\n",
    "\n",
    "pdf_file_path = r\"D:\\Risidio\\Prom Project\\script 5\\IndianMovieWebSeriesScripts\\Stree.pdf\"\n",
    "csv_file_path = r\"D:\\Risidio\\Prom Project\\script 5\\IndianMovieWebSeriesScripts\\Stree.csv\"\n",
    "\n",
    "with open(pdf_file_path, 'rb') as pdf_file:\n",
    "    pdf_reader = PyPDF2.PdfReader(pdf_file)\n",
    "\n",
    "    \n",
    "    text_pages = []\n",
    "    for page_num in range(len(pdf_reader.pages)):\n",
    "        page = pdf_reader.pages[page_num]\n",
    "        text = page.extract_text()\n",
    "        text_pages.append(text)\n",
    "\n",
    "\n",
    "with open(txt_file_path, 'w', encoding='utf-8') as txt_file:\n",
    "    for page_text in text_pages:\n",
    "        txt_file.write(page_text)\n",
    "with open(txt_file_path, 'r', encoding='utf-8') as txt_file:\n",
    "    text = txt_file.read()\n",
    "\n",
    "#print(text)\n",
    "\n",
    "df15 = pd.DataFrame({'Text': [text]})\n",
    "print(df15)\n",
    "\n",
    "\n"
   ]
  },
  {
   "cell_type": "code",
   "execution_count": 19,
   "id": "9705abda",
   "metadata": {},
   "outputs": [
    {
     "name": "stdout",
     "output_type": "stream",
     "text": [
      "                                                Text\n",
      "0  \\t\\t24th\\tAug\\t‘15\\tTamasha\\t\\tScript\\t\\t\\t\\tS...\n"
     ]
    }
   ],
   "source": [
    "\n",
    "\n",
    "pdf_file_path = r\"D:\\Risidio\\Prom Project\\script 5\\IndianMovieWebSeriesScripts\\Tamasha.pdf\"\n",
    "csv_file_path = r\"D:\\Risidio\\Prom Project\\script 5\\IndianMovieWebSeriesScripts\\Tamasha.csv\"\n",
    "\n",
    "with open(pdf_file_path, 'rb') as pdf_file:\n",
    "    pdf_reader = PyPDF2.PdfReader(pdf_file)\n",
    "\n",
    "    \n",
    "    text_pages = []\n",
    "    for page_num in range(len(pdf_reader.pages)):\n",
    "        page = pdf_reader.pages[page_num]\n",
    "        text = page.extract_text()\n",
    "        text_pages.append(text)\n",
    "\n",
    "\n",
    "with open(txt_file_path, 'w', encoding='utf-8') as txt_file:\n",
    "    for page_text in text_pages:\n",
    "        txt_file.write(page_text)\n",
    "with open(txt_file_path, 'r', encoding='utf-8') as txt_file:\n",
    "    text = txt_file.read()\n",
    "\n",
    "#print(text)\n",
    "\n",
    "df16 = pd.DataFrame({'Text': [text]})\n",
    "print(df16)\n",
    "\n"
   ]
  },
  {
   "cell_type": "code",
   "execution_count": 20,
   "id": "cace436d",
   "metadata": {},
   "outputs": [
    {
     "name": "stdout",
     "output_type": "stream",
     "text": [
      "                                                Text\n",
      "0  AARYA\\n  SEASON 1 \\n EPISODE - 1\\nDIRECTED BY ...\n"
     ]
    }
   ],
   "source": [
    "\n",
    "\n",
    "pdf_file_path = r\"D:\\Risidio\\Prom Project\\script 5\\IndianMovieWebSeriesScripts\\Arya\\Episode1.pdf\"\n",
    "csv_file_path = r\"D:\\Risidio\\Prom Project\\script 5\\IndianMovieWebSeriesScripts\\Arya\\Episode1.csv\"\n",
    "\n",
    "with open(pdf_file_path, 'rb') as pdf_file:\n",
    "    pdf_reader = PyPDF2.PdfReader(pdf_file)\n",
    "\n",
    "    \n",
    "    text_pages = []\n",
    "    for page_num in range(len(pdf_reader.pages)):\n",
    "        page = pdf_reader.pages[page_num]\n",
    "        text = page.extract_text()\n",
    "        text_pages.append(text)\n",
    "\n",
    "\n",
    "with open(txt_file_path, 'w', encoding='utf-8') as txt_file:\n",
    "    for page_text in text_pages:\n",
    "        txt_file.write(page_text)\n",
    "with open(txt_file_path, 'r', encoding='utf-8') as txt_file:\n",
    "    text = txt_file.read()\n",
    "\n",
    "#print(text)\n",
    "\n",
    "df17 = pd.DataFrame({'Text': [text]})\n",
    "print(df17)\n",
    "\n"
   ]
  },
  {
   "cell_type": "code",
   "execution_count": 21,
   "id": "761cb4a7",
   "metadata": {},
   "outputs": [
    {
     "name": "stdout",
     "output_type": "stream",
     "text": [
      "                                                Text\n",
      "0  AARYA\\n  SEASON 1 \\n EPISODE - 2\\nDIRECTED BY ...\n"
     ]
    }
   ],
   "source": [
    "\n",
    "\n",
    "pdf_file_path = r\"D:\\Risidio\\Prom Project\\script 5\\IndianMovieWebSeriesScripts\\Arya\\Episode2.pdf\"\n",
    "csv_file_path = r\"D:\\Risidio\\Prom Project\\script 5\\IndianMovieWebSeriesScripts\\Arya\\Episode2.csv\"\n",
    "with open(pdf_file_path, 'rb') as pdf_file:\n",
    "    pdf_reader = PyPDF2.PdfReader(pdf_file)\n",
    "\n",
    "    \n",
    "    text_pages = []\n",
    "    for page_num in range(len(pdf_reader.pages)):\n",
    "        page = pdf_reader.pages[page_num]\n",
    "        text = page.extract_text()\n",
    "        text_pages.append(text)\n",
    "\n",
    "\n",
    "with open(txt_file_path, 'w', encoding='utf-8') as txt_file:\n",
    "    for page_text in text_pages:\n",
    "        txt_file.write(page_text)\n",
    "with open(txt_file_path, 'r', encoding='utf-8') as txt_file:\n",
    "    text = txt_file.read()\n",
    "\n",
    "#print(text)\n",
    "\n",
    "df18 = pd.DataFrame({'Text': [text]})\n",
    "print(df18)\n",
    "\n"
   ]
  },
  {
   "cell_type": "code",
   "execution_count": 22,
   "id": "a52863dc",
   "metadata": {},
   "outputs": [
    {
     "name": "stdout",
     "output_type": "stream",
     "text": [
      "                                                Text\n",
      "0  AARYA\\n  SEASON 1 \\n EPISODE - 3\\nDIRECTED BY ...\n"
     ]
    }
   ],
   "source": [
    "\n",
    "\n",
    "pdf_file_path = r\"D:\\Risidio\\Prom Project\\script 5\\IndianMovieWebSeriesScripts\\Arya\\Episode3.pdf\"\n",
    "csv_file_path = r\"D:\\Risidio\\Prom Project\\script 5\\IndianMovieWebSeriesScripts\\Arya\\Episode4.csv\"\n",
    "\n",
    "with open(pdf_file_path, 'rb') as pdf_file:\n",
    "    pdf_reader = PyPDF2.PdfReader(pdf_file)\n",
    "\n",
    "    \n",
    "    text_pages = []\n",
    "    for page_num in range(len(pdf_reader.pages)):\n",
    "        page = pdf_reader.pages[page_num]\n",
    "        text = page.extract_text()\n",
    "        text_pages.append(text)\n",
    "\n",
    "\n",
    "with open(txt_file_path, 'w', encoding='utf-8') as txt_file:\n",
    "    for page_text in text_pages:\n",
    "        txt_file.write(page_text)\n",
    "with open(txt_file_path, 'r', encoding='utf-8') as txt_file:\n",
    "    text = txt_file.read()\n",
    "\n",
    "#print(text)\n",
    "\n",
    "df19 = pd.DataFrame({'Text': [text]})\n",
    "print(df19)\n",
    "\n",
    "\n",
    "\n"
   ]
  },
  {
   "cell_type": "code",
   "execution_count": 23,
   "id": "919402d4",
   "metadata": {},
   "outputs": [
    {
     "name": "stdout",
     "output_type": "stream",
     "text": [
      "                                                Text\n",
      "0  AARYA\\n  SEASON 1 \\n EPISODE - 4\\nDIRECTED BY ...\n"
     ]
    }
   ],
   "source": [
    "\n",
    "\n",
    "pdf_file_path = r\"D:\\Risidio\\Prom Project\\script 5\\IndianMovieWebSeriesScripts\\Arya\\Episode4.pdf\"\n",
    "csv_file_path = r\"D:\\Risidio\\Prom Project\\script 5\\IndianMovieWebSeriesScripts\\Arya\\Episode4.csv\"\n",
    "with open(pdf_file_path, 'rb') as pdf_file:\n",
    "    pdf_reader = PyPDF2.PdfReader(pdf_file)\n",
    "\n",
    "    \n",
    "    text_pages = []\n",
    "    for page_num in range(len(pdf_reader.pages)):\n",
    "        page = pdf_reader.pages[page_num]\n",
    "        text = page.extract_text()\n",
    "        text_pages.append(text)\n",
    "\n",
    "\n",
    "with open(txt_file_path, 'w', encoding='utf-8') as txt_file:\n",
    "    for page_text in text_pages:\n",
    "        txt_file.write(page_text)\n",
    "with open(txt_file_path, 'r', encoding='utf-8') as txt_file:\n",
    "    text = txt_file.read()\n",
    "\n",
    "#print(text)\n",
    "\n",
    "df20 = pd.DataFrame({'Text': [text]})\n",
    "print(df20)\n",
    "\n"
   ]
  },
  {
   "cell_type": "code",
   "execution_count": 24,
   "id": "fd81418d",
   "metadata": {},
   "outputs": [
    {
     "name": "stdout",
     "output_type": "stream",
     "text": [
      "                                                Text\n",
      "0  AARYA\\n  SEASON 1 \\n EPISODE - 5\\nDIRECTED BY ...\n"
     ]
    }
   ],
   "source": [
    "\n",
    "\n",
    "pdf_file_path = r\"D:\\Risidio\\Prom Project\\script 5\\IndianMovieWebSeriesScripts\\Arya\\Episode5.pdf\"\n",
    "csv_file_path = r\"D:\\Risidio\\Prom Project\\script 5\\IndianMovieWebSeriesScripts\\Arya\\Episode5.csv\"\n",
    "with open(pdf_file_path, 'rb') as pdf_file:\n",
    "    pdf_reader = PyPDF2.PdfReader(pdf_file)\n",
    "\n",
    "    \n",
    "    text_pages = []\n",
    "    for page_num in range(len(pdf_reader.pages)):\n",
    "        page = pdf_reader.pages[page_num]\n",
    "        text = page.extract_text()\n",
    "        text_pages.append(text)\n",
    "\n",
    "\n",
    "with open(txt_file_path, 'w', encoding='utf-8') as txt_file:\n",
    "    for page_text in text_pages:\n",
    "        txt_file.write(page_text)\n",
    "with open(txt_file_path, 'r', encoding='utf-8') as txt_file:\n",
    "    text = txt_file.read()\n",
    "\n",
    "#print(text)\n",
    "\n",
    "df21 = pd.DataFrame({'Text': [text]})\n",
    "print(df21)\n",
    "\n"
   ]
  },
  {
   "cell_type": "code",
   "execution_count": 25,
   "id": "028b95a3",
   "metadata": {},
   "outputs": [
    {
     "name": "stdout",
     "output_type": "stream",
     "text": [
      "                                                Text\n",
      "0  AARYA\\n  SEASON 1 \\n EPISODE - 6\\nDIRECTED BY ...\n"
     ]
    }
   ],
   "source": [
    "\n",
    "\n",
    "pdf_file_path = r\"D:\\Risidio\\Prom Project\\script 5\\IndianMovieWebSeriesScripts\\Arya\\Episode6.pdf\"\n",
    "csv_file_path = r\"D:\\Risidio\\Prom Project\\script 5\\IndianMovieWebSeriesScripts\\Arya\\Episode6.csv\"\n",
    "with open(pdf_file_path, 'rb') as pdf_file:\n",
    "    pdf_reader = PyPDF2.PdfReader(pdf_file)\n",
    "\n",
    "    \n",
    "    text_pages = []\n",
    "    for page_num in range(len(pdf_reader.pages)):\n",
    "        page = pdf_reader.pages[page_num]\n",
    "        text = page.extract_text()\n",
    "        text_pages.append(text)\n",
    "\n",
    "\n",
    "with open(txt_file_path, 'w', encoding='utf-8') as txt_file:\n",
    "    for page_text in text_pages:\n",
    "        txt_file.write(page_text)\n",
    "with open(txt_file_path, 'r', encoding='utf-8') as txt_file:\n",
    "    text = txt_file.read()\n",
    "\n",
    "#print(text)\n",
    "\n",
    "df22 = pd.DataFrame({'Text': [text]})\n",
    "print(df22)\n",
    "\n"
   ]
  },
  {
   "cell_type": "code",
   "execution_count": 26,
   "id": "a9ca26f1",
   "metadata": {},
   "outputs": [
    {
     "name": "stdout",
     "output_type": "stream",
     "text": [
      "                                                Text\n",
      "0  AARYA\\n  SEASON 1 \\n EPISODE - 7\\nDIRECTED BY ...\n"
     ]
    }
   ],
   "source": [
    "\n",
    "\n",
    "pdf_file_path = r\"D:\\Risidio\\Prom Project\\script 5\\IndianMovieWebSeriesScripts\\Arya\\Episode7.pdf\"\n",
    "csv_file_path = r\"D:\\Risidio\\Prom Project\\script 5\\IndianMovieWebSeriesScripts\\Arya\\Episode7.csv\"\n",
    "with open(pdf_file_path, 'rb') as pdf_file:\n",
    "    pdf_reader = PyPDF2.PdfReader(pdf_file)\n",
    "\n",
    "    \n",
    "    text_pages = []\n",
    "    for page_num in range(len(pdf_reader.pages)):\n",
    "        page = pdf_reader.pages[page_num]\n",
    "        text = page.extract_text()\n",
    "        text_pages.append(text)\n",
    "\n",
    "\n",
    "with open(txt_file_path, 'w', encoding='utf-8') as txt_file:\n",
    "    for page_text in text_pages:\n",
    "        txt_file.write(page_text)\n",
    "with open(txt_file_path, 'r', encoding='utf-8') as txt_file:\n",
    "    text = txt_file.read()\n",
    "\n",
    "#print(text)\n",
    "\n",
    "df23 = pd.DataFrame({'Text': [text]})\n",
    "print(df23)\n",
    "\n"
   ]
  },
  {
   "cell_type": "code",
   "execution_count": 27,
   "id": "418e424a",
   "metadata": {},
   "outputs": [
    {
     "name": "stdout",
     "output_type": "stream",
     "text": [
      "                                                Text\n",
      "0  AARYA\\n  SEASON 1 \\n EPISODE - 8\\nDIRECTED BY ...\n"
     ]
    }
   ],
   "source": [
    "\n",
    "\n",
    "pdf_file_path = r\"D:\\Risidio\\Prom Project\\script 5\\IndianMovieWebSeriesScripts\\Arya\\Episode8.pdf\"\n",
    "csv_file_path = r\"D:\\Risidio\\Prom Project\\script 5\\IndianMovieWebSeriesScripts\\Arya\\Episode8.csv\"\n",
    "with open(pdf_file_path, 'rb') as pdf_file:\n",
    "    pdf_reader = PyPDF2.PdfReader(pdf_file)\n",
    "\n",
    "    \n",
    "    text_pages = []\n",
    "    for page_num in range(len(pdf_reader.pages)):\n",
    "        page = pdf_reader.pages[page_num]\n",
    "        text = page.extract_text()\n",
    "        text_pages.append(text)\n",
    "\n",
    "\n",
    "with open(txt_file_path, 'w', encoding='utf-8') as txt_file:\n",
    "    for page_text in text_pages:\n",
    "        txt_file.write(page_text)\n",
    "with open(txt_file_path, 'r', encoding='utf-8') as txt_file:\n",
    "    text = txt_file.read()\n",
    "\n",
    "#print(text)\n",
    "\n",
    "df24 = pd.DataFrame({'Text': [text]})\n",
    "print(df24)\n",
    "\n"
   ]
  },
  {
   "cell_type": "code",
   "execution_count": 28,
   "id": "41fa8382",
   "metadata": {},
   "outputs": [
    {
     "name": "stdout",
     "output_type": "stream",
     "text": [
      "                                                Text\n",
      "0  AARYA\\n  SEASON 1 \\n EPISODE - 9\\nDIRECTED BY ...\n"
     ]
    }
   ],
   "source": [
    "\n",
    "\n",
    "pdf_file_path = r\"D:\\Risidio\\Prom Project\\script 5\\IndianMovieWebSeriesScripts\\Arya\\Episode9.pdf\"\n",
    "csv_file_path = r\"D:\\Risidio\\Prom Project\\script 5\\IndianMovieWebSeriesScripts\\Arya\\Episode9.csv\"\n",
    "with open(pdf_file_path, 'rb') as pdf_file:\n",
    "    pdf_reader = PyPDF2.PdfReader(pdf_file)\n",
    "\n",
    "    \n",
    "    text_pages = []\n",
    "    for page_num in range(len(pdf_reader.pages)):\n",
    "        page = pdf_reader.pages[page_num]\n",
    "        text = page.extract_text()\n",
    "        text_pages.append(text)\n",
    "\n",
    "\n",
    "with open(txt_file_path, 'w', encoding='utf-8') as txt_file:\n",
    "    for page_text in text_pages:\n",
    "        txt_file.write(page_text)\n",
    "with open(txt_file_path, 'r', encoding='utf-8') as txt_file:\n",
    "    text = txt_file.read()\n",
    "\n",
    "#print(text)\n",
    "\n",
    "df25 = pd.DataFrame({'Text': [text]})\n",
    "print(df25)\n",
    "\n"
   ]
  },
  {
   "cell_type": "code",
   "execution_count": 29,
   "id": "c1d07f74",
   "metadata": {},
   "outputs": [
    {
     "name": "stdout",
     "output_type": "stream",
     "text": [
      "                                                Text\n",
      "0  ScreenplayINT. OUTSIDE MAHESHWARI SIR OFFICE -...\n"
     ]
    }
   ],
   "source": [
    "\n",
    "\n",
    "pdf_file_path = r\"D:\\Risidio\\Prom Project\\script 5\\IndianMovieWebSeriesScripts\\KotaFactory\\Episode1.pdf\"\n",
    "csv_file_path = r\"D:\\Risidio\\Prom Project\\script 5\\IndianMovieWebSeriesScripts\\KotaFactory\\Episode1.csv\"\n",
    "with open(pdf_file_path, 'rb') as pdf_file:\n",
    "    pdf_reader = PyPDF2.PdfReader(pdf_file)\n",
    "\n",
    "    \n",
    "    text_pages = []\n",
    "    for page_num in range(len(pdf_reader.pages)):\n",
    "        page = pdf_reader.pages[page_num]\n",
    "        text = page.extract_text()\n",
    "        text_pages.append(text)\n",
    "\n",
    "\n",
    "with open(txt_file_path, 'w', encoding='utf-8') as txt_file:\n",
    "    for page_text in text_pages:\n",
    "        txt_file.write(page_text)\n",
    "with open(txt_file_path, 'r', encoding='utf-8') as txt_file:\n",
    "    text = txt_file.read()\n",
    "\n",
    "#print(text)\n",
    "\n",
    "df26 = pd.DataFrame({'Text': [text]})\n",
    "print(df26)\n",
    "\n"
   ]
  },
  {
   "cell_type": "code",
   "execution_count": 30,
   "id": "20fac3ec",
   "metadata": {},
   "outputs": [
    {
     "name": "stdout",
     "output_type": "stream",
     "text": [
      "                                                Text\n",
      "0  ScreenplayINT. PG NIGHT\\nCU of clock 11:30 pm....\n"
     ]
    }
   ],
   "source": [
    "\n",
    "\n",
    "pdf_file_path = r\"D:\\Risidio\\Prom Project\\script 5\\IndianMovieWebSeriesScripts\\KotaFactory\\Episode2.pdf\"\n",
    "csv_file_path = r\"D:\\Risidio\\Prom Project\\script 5\\IndianMovieWebSeriesScripts\\KotaFactory\\Episode2.csv\"\n",
    "with open(pdf_file_path, 'rb') as pdf_file:\n",
    "    pdf_reader = PyPDF2.PdfReader(pdf_file)\n",
    "\n",
    "    \n",
    "    text_pages = []\n",
    "    for page_num in range(len(pdf_reader.pages)):\n",
    "        page = pdf_reader.pages[page_num]\n",
    "        text = page.extract_text()\n",
    "        text_pages.append(text)\n",
    "\n",
    "\n",
    "with open(txt_file_path, 'w', encoding='utf-8') as txt_file:\n",
    "    for page_text in text_pages:\n",
    "        txt_file.write(page_text)\n",
    "with open(txt_file_path, 'r', encoding='utf-8') as txt_file:\n",
    "    text = txt_file.read()\n",
    "\n",
    "#print(text)\n",
    "\n",
    "df27 = pd.DataFrame({'Text': [text]})\n",
    "print(df27)\n",
    "\n"
   ]
  },
  {
   "cell_type": "code",
   "execution_count": 31,
   "id": "cc9b9e3a",
   "metadata": {},
   "outputs": [
    {
     "name": "stdout",
     "output_type": "stream",
     "text": [
      "                                                Text\n",
      "0  1. INT/EXT. PG -  VAIBHAV'S ROOM - 7:10AM\\nCU ...\n"
     ]
    }
   ],
   "source": [
    "\n",
    "\n",
    "pdf_file_path = r\"D:\\Risidio\\Prom Project\\script 5\\IndianMovieWebSeriesScripts\\KotaFactory\\Episode3.pdf\"\n",
    "csv_file_path = r\"D:\\Risidio\\Prom Project\\script 5\\IndianMovieWebSeriesScripts\\KotaFactory\\Episode3.csv\"\n",
    "with open(pdf_file_path, 'rb') as pdf_file:\n",
    "    pdf_reader = PyPDF2.PdfReader(pdf_file)\n",
    "\n",
    "    \n",
    "    text_pages = []\n",
    "    for page_num in range(len(pdf_reader.pages)):\n",
    "        page = pdf_reader.pages[page_num]\n",
    "        text = page.extract_text()\n",
    "        text_pages.append(text)\n",
    "\n",
    "\n",
    "with open(txt_file_path, 'w', encoding='utf-8') as txt_file:\n",
    "    for page_text in text_pages:\n",
    "        txt_file.write(page_text)\n",
    "with open(txt_file_path, 'r', encoding='utf-8') as txt_file:\n",
    "    text = txt_file.read()\n",
    "\n",
    "#print(text)\n",
    "\n",
    "df28 = pd.DataFrame({'Text': [text]})\n",
    "print(df28)\n",
    "\n"
   ]
  },
  {
   "cell_type": "code",
   "execution_count": 32,
   "id": "88a0482f",
   "metadata": {},
   "outputs": [
    {
     "name": "stdout",
     "output_type": "stream",
     "text": [
      "                                                Text\n",
      "0  ScreenplayINT. DAY CLASSROOM\\nJeetu gives home...\n"
     ]
    }
   ],
   "source": [
    "\n",
    "\n",
    "pdf_file_path = r\"D:\\Risidio\\Prom Project\\script 5\\IndianMovieWebSeriesScripts\\KotaFactory\\Episode4.pdf\"\n",
    "csv_file_path = r\"D:\\Risidio\\Prom Project\\script 5\\IndianMovieWebSeriesScripts\\KotaFactory\\Episode4.csv\"\n",
    "with open(pdf_file_path, 'rb') as pdf_file:\n",
    "    pdf_reader = PyPDF2.PdfReader(pdf_file)\n",
    "\n",
    "    \n",
    "    text_pages = []\n",
    "    for page_num in range(len(pdf_reader.pages)):\n",
    "        page = pdf_reader.pages[page_num]\n",
    "        text = page.extract_text()\n",
    "        text_pages.append(text)\n",
    "\n",
    "\n",
    "with open(txt_file_path, 'w', encoding='utf-8') as txt_file:\n",
    "    for page_text in text_pages:\n",
    "        txt_file.write(page_text)\n",
    "with open(txt_file_path, 'r', encoding='utf-8') as txt_file:\n",
    "    text = txt_file.read()\n",
    "\n",
    "#print(text)\n",
    "\n",
    "df29 = pd.DataFrame({'Text': [text]})\n",
    "print(df29)\n",
    "\n"
   ]
  },
  {
   "cell_type": "code",
   "execution_count": 33,
   "id": "72794c85",
   "metadata": {},
   "outputs": [
    {
     "name": "stdout",
     "output_type": "stream",
     "text": [
      "                                                Text\n",
      "0  ScreenplayINT. UDAY’S ROOM - DAY\\nSound of a m...\n"
     ]
    }
   ],
   "source": [
    "\n",
    "\n",
    "pdf_file_path = r\"D:\\Risidio\\Prom Project\\script 5\\IndianMovieWebSeriesScripts\\KotaFactory\\Episode5.pdf\"\n",
    "csv_file_path = r\"D:\\Risidio\\Prom Project\\script 5\\IndianMovieWebSeriesScripts\\KotaFactory\\Episode5.csv\"\n",
    "with open(pdf_file_path, 'rb') as pdf_file:\n",
    "    pdf_reader = PyPDF2.PdfReader(pdf_file)\n",
    "\n",
    "    \n",
    "    text_pages = []\n",
    "    for page_num in range(len(pdf_reader.pages)):\n",
    "        page = pdf_reader.pages[page_num]\n",
    "        text = page.extract_text()\n",
    "        text_pages.append(text)\n",
    "\n",
    "\n",
    "with open(txt_file_path, 'w', encoding='utf-8') as txt_file:\n",
    "    for page_text in text_pages:\n",
    "        txt_file.write(page_text)\n",
    "with open(txt_file_path, 'r', encoding='utf-8') as txt_file:\n",
    "    text = txt_file.read()\n",
    "\n",
    "#print(text)\n",
    "\n",
    "df30 = pd.DataFrame({'Text': [text]})\n",
    "print(df30)\n",
    "\n"
   ]
  },
  {
   "cell_type": "code",
   "execution_count": 34,
   "id": "803a79b7",
   "metadata": {},
   "outputs": [
    {
     "name": "stdout",
     "output_type": "stream",
     "text": [
      "                                                Text\n",
      "0  PAATAL LOK\\nEpisode 1 \\nDraft 6.0\\nWritten by ...\n"
     ]
    }
   ],
   "source": [
    "\n",
    "\n",
    "pdf_file_path = r\"D:\\Risidio\\Prom Project\\script 5\\IndianMovieWebSeriesScripts\\PaatalLok\\Episode1.pdf\"\n",
    "csv_file_path = r\"D:\\Risidio\\Prom Project\\script 5\\IndianMovieWebSeriesScripts\\PaatalLok\\Episode1.csv\"\n",
    "with open(pdf_file_path, 'rb') as pdf_file:\n",
    "    pdf_reader = PyPDF2.PdfReader(pdf_file)\n",
    "\n",
    "    \n",
    "    text_pages = []\n",
    "    for page_num in range(len(pdf_reader.pages)):\n",
    "        page = pdf_reader.pages[page_num]\n",
    "        text = page.extract_text()\n",
    "        text_pages.append(text)\n",
    "\n",
    "\n",
    "with open(txt_file_path, 'w', encoding='utf-8') as txt_file:\n",
    "    for page_text in text_pages:\n",
    "        txt_file.write(page_text)\n",
    "with open(txt_file_path, 'r', encoding='utf-8') as txt_file:\n",
    "    text = txt_file.read()\n",
    "\n",
    "#print(text)\n",
    "\n",
    "df31 = pd.DataFrame({'Text': [text]})\n",
    "print(df31)\n",
    "\n"
   ]
  },
  {
   "cell_type": "code",
   "execution_count": 35,
   "id": "2728ead5",
   "metadata": {},
   "outputs": [
    {
     "name": "stdout",
     "output_type": "stream",
     "text": [
      "                                                Text\n",
      "0  PAATAL LOK\\nEpisode 2\\nDraft 5.0\\nWritten by\\n...\n"
     ]
    }
   ],
   "source": [
    "\n",
    "\n",
    "pdf_file_path = r\"D:\\Risidio\\Prom Project\\script 5\\IndianMovieWebSeriesScripts\\PaatalLok\\Episode2.pdf\"\n",
    "csv_file_path = r\"D:\\Risidio\\Prom Project\\script 5\\IndianMovieWebSeriesScripts\\PaatalLok\\Episode2.csv\"\n",
    "with open(pdf_file_path, 'rb') as pdf_file:\n",
    "    pdf_reader = PyPDF2.PdfReader(pdf_file)\n",
    "\n",
    "    \n",
    "    text_pages = []\n",
    "    for page_num in range(len(pdf_reader.pages)):\n",
    "        page = pdf_reader.pages[page_num]\n",
    "        text = page.extract_text()\n",
    "        text_pages.append(text)\n",
    "\n",
    "\n",
    "with open(txt_file_path, 'w', encoding='utf-8') as txt_file:\n",
    "    for page_text in text_pages:\n",
    "        txt_file.write(page_text)\n",
    "with open(txt_file_path, 'r', encoding='utf-8') as txt_file:\n",
    "    text = txt_file.read()\n",
    "\n",
    "#print(text)\n",
    "\n",
    "df32 = pd.DataFrame({'Text': [text]})\n",
    "print(df32)\n",
    "\n"
   ]
  },
  {
   "cell_type": "code",
   "execution_count": 36,
   "id": "70ad7eed",
   "metadata": {},
   "outputs": [
    {
     "name": "stdout",
     "output_type": "stream",
     "text": [
      "                                                Text\n",
      "0  PAATAL LOK\\nEPISODE 3 \\nDRAFT 5.0\\nA HISTORY O...\n"
     ]
    }
   ],
   "source": [
    "\n",
    "\n",
    "pdf_file_path = r\"D:\\Risidio\\Prom Project\\script 5\\IndianMovieWebSeriesScripts\\PaatalLok\\Episode3.pdf\"\n",
    "csv_file_path = r\"D:\\Risidio\\Prom Project\\script 5\\IndianMovieWebSeriesScripts\\PaatalLok\\Episode3.csv\"\n",
    "with open(pdf_file_path, 'rb') as pdf_file:\n",
    "    pdf_reader = PyPDF2.PdfReader(pdf_file)\n",
    "\n",
    "    \n",
    "    text_pages = []\n",
    "    for page_num in range(len(pdf_reader.pages)):\n",
    "        page = pdf_reader.pages[page_num]\n",
    "        text = page.extract_text()\n",
    "        text_pages.append(text)\n",
    "\n",
    "\n",
    "with open(txt_file_path, 'w', encoding='utf-8') as txt_file:\n",
    "    for page_text in text_pages:\n",
    "        txt_file.write(page_text)\n",
    "with open(txt_file_path, 'r', encoding='utf-8') as txt_file:\n",
    "    text = txt_file.read()\n",
    "\n",
    "#print(text)\n",
    "\n",
    "df33 = pd.DataFrame({'Text': [text]})\n",
    "print(df33)\n",
    "\n"
   ]
  },
  {
   "cell_type": "code",
   "execution_count": 37,
   "id": "144ccb81",
   "metadata": {},
   "outputs": [
    {
     "name": "stdout",
     "output_type": "stream",
     "text": [
      "                                                Text\n",
      "0  PAATAL LOK\\nEpisode 4 \\nDraft 5.0\\n'Sleepless ...\n"
     ]
    }
   ],
   "source": [
    "\n",
    "\n",
    "pdf_file_path = r\"D:\\Risidio\\Prom Project\\script 5\\IndianMovieWebSeriesScripts\\PaatalLok\\Episode4.pdf\"\n",
    "csv_file_path = r\"D:\\Risidio\\Prom Project\\script 5\\IndianMovieWebSeriesScripts\\PaatalLok\\Episode4.csv\"\n",
    "with open(pdf_file_path, 'rb') as pdf_file:\n",
    "    pdf_reader = PyPDF2.PdfReader(pdf_file)\n",
    "\n",
    "    \n",
    "    text_pages = []\n",
    "    for page_num in range(len(pdf_reader.pages)):\n",
    "        page = pdf_reader.pages[page_num]\n",
    "        text = page.extract_text()\n",
    "        text_pages.append(text)\n",
    "\n",
    "\n",
    "with open(txt_file_path, 'w', encoding='utf-8') as txt_file:\n",
    "    for page_text in text_pages:\n",
    "        txt_file.write(page_text)\n",
    "with open(txt_file_path, 'r', encoding='utf-8') as txt_file:\n",
    "    text = txt_file.read()\n",
    "\n",
    "#print(text)\n",
    "\n",
    "df34 = pd.DataFrame({'Text': [text]})\n",
    "print(df34)\n",
    "\n"
   ]
  },
  {
   "cell_type": "code",
   "execution_count": 38,
   "id": "907c7353",
   "metadata": {},
   "outputs": [
    {
     "name": "stdout",
     "output_type": "stream",
     "text": [
      "                                                Text\n",
      "0  PAATAL LOK\\nEPISODE 5 DRAFT 4.0  \\n'TRUTHS & D...\n"
     ]
    }
   ],
   "source": [
    "\n",
    "\n",
    "pdf_file_path = r\"D:\\Risidio\\Prom Project\\script 5\\IndianMovieWebSeriesScripts\\PaatalLok\\Episode5.pdf\"\n",
    "csv_file_path = r\"D:\\Risidio\\Prom Project\\script 5\\IndianMovieWebSeriesScripts\\PaatalLok\\Episode5.csv\"\n",
    "with open(pdf_file_path, 'rb') as pdf_file:\n",
    "    pdf_reader = PyPDF2.PdfReader(pdf_file)\n",
    "\n",
    "    \n",
    "    text_pages = []\n",
    "    for page_num in range(len(pdf_reader.pages)):\n",
    "        page = pdf_reader.pages[page_num]\n",
    "        text = page.extract_text()\n",
    "        text_pages.append(text)\n",
    "\n",
    "\n",
    "with open(txt_file_path, 'w', encoding='utf-8') as txt_file:\n",
    "    for page_text in text_pages:\n",
    "        txt_file.write(page_text)\n",
    "with open(txt_file_path, 'r', encoding='utf-8') as txt_file:\n",
    "    text = txt_file.read()\n",
    "\n",
    "#print(text)\n",
    "\n",
    "df35 = pd.DataFrame({'Text': [text]})\n",
    "print(df35)\n",
    "\n"
   ]
  },
  {
   "cell_type": "code",
   "execution_count": 39,
   "id": "a7345358",
   "metadata": {},
   "outputs": [
    {
     "name": "stdout",
     "output_type": "stream",
     "text": [
      "                                                Text\n",
      "0  PAATAL LOK\\nEPISODE 6 NEW\\nDRAFT 3.0\\nWritten ...\n"
     ]
    }
   ],
   "source": [
    "\n",
    "\n",
    "pdf_file_path = r\"D:\\Risidio\\Prom Project\\script 5\\IndianMovieWebSeriesScripts\\PaatalLok\\Episode6.pdf\"\n",
    "csv_file_path = r\"D:\\Risidio\\Prom Project\\script 5\\IndianMovieWebSeriesScripts\\PaatalLok\\Episode6.csv\"\n",
    "with open(pdf_file_path, 'rb') as pdf_file:\n",
    "    pdf_reader = PyPDF2.PdfReader(pdf_file)\n",
    "\n",
    "    \n",
    "    text_pages = []\n",
    "    for page_num in range(len(pdf_reader.pages)):\n",
    "        page = pdf_reader.pages[page_num]\n",
    "        text = page.extract_text()\n",
    "        text_pages.append(text)\n",
    "\n",
    "\n",
    "with open(txt_file_path, 'w', encoding='utf-8') as txt_file:\n",
    "    for page_text in text_pages:\n",
    "        txt_file.write(page_text)\n",
    "with open(txt_file_path, 'r', encoding='utf-8') as txt_file:\n",
    "    text = txt_file.read()\n",
    "\n",
    "#print(text)\n",
    "\n",
    "df36 = pd.DataFrame({'Text': [text]})\n",
    "print(df36)\n",
    "\n"
   ]
  },
  {
   "cell_type": "code",
   "execution_count": 40,
   "id": "12c13681",
   "metadata": {},
   "outputs": [
    {
     "name": "stdout",
     "output_type": "stream",
     "text": [
      "                                                Text\n",
      "0  PAATAL LOK  \\nEPISODE 7 (NEW)  \\nDRAFT 4.0\\nWr...\n"
     ]
    }
   ],
   "source": [
    "\n",
    "\n",
    "pdf_file_path = r\"D:\\Risidio\\Prom Project\\script 5\\IndianMovieWebSeriesScripts\\PaatalLok\\Episode7.pdf\"\n",
    "csv_file_path = r\"D:\\Risidio\\Prom Project\\script 5\\IndianMovieWebSeriesScripts\\PaatalLok\\Episode7.csv\"\n",
    "with open(pdf_file_path, 'rb') as pdf_file:\n",
    "    pdf_reader = PyPDF2.PdfReader(pdf_file)\n",
    "\n",
    "    \n",
    "    text_pages = []\n",
    "    for page_num in range(len(pdf_reader.pages)):\n",
    "        page = pdf_reader.pages[page_num]\n",
    "        text = page.extract_text()\n",
    "        text_pages.append(text)\n",
    "\n",
    "\n",
    "with open(txt_file_path, 'w', encoding='utf-8') as txt_file:\n",
    "    for page_text in text_pages:\n",
    "        txt_file.write(page_text)\n",
    "with open(txt_file_path, 'r', encoding='utf-8') as txt_file:\n",
    "    text = txt_file.read()\n",
    "\n",
    "#print(text)\n",
    "\n",
    "df37 = pd.DataFrame({'Text': [text]})\n",
    "print(df37)\n",
    "\n"
   ]
  },
  {
   "cell_type": "code",
   "execution_count": 41,
   "id": "ff654cfb",
   "metadata": {},
   "outputs": [
    {
     "name": "stdout",
     "output_type": "stream",
     "text": [
      "                                                Text\n",
      "0  PAATAL LOK  \\nEPISODE 8 (NEW)  \\nDRAFT 4.0\\nWr...\n"
     ]
    }
   ],
   "source": [
    "\n",
    "\n",
    "pdf_file_path = r\"D:\\Risidio\\Prom Project\\script 5\\IndianMovieWebSeriesScripts\\PaatalLok\\Episode8.pdf\"\n",
    "csv_file_path = r\"D:\\Risidio\\Prom Project\\script 5\\IndianMovieWebSeriesScripts\\PaatalLok\\Episode8.csv\"\n",
    "with open(pdf_file_path, 'rb') as pdf_file:\n",
    "    pdf_reader = PyPDF2.PdfReader(pdf_file)\n",
    "\n",
    "    \n",
    "    text_pages = []\n",
    "    for page_num in range(len(pdf_reader.pages)):\n",
    "        page = pdf_reader.pages[page_num]\n",
    "        text = page.extract_text()\n",
    "        text_pages.append(text)\n",
    "\n",
    "\n",
    "with open(txt_file_path, 'w', encoding='utf-8') as txt_file:\n",
    "    for page_text in text_pages:\n",
    "        txt_file.write(page_text)\n",
    "with open(txt_file_path, 'r', encoding='utf-8') as txt_file:\n",
    "    text = txt_file.read()\n",
    "\n",
    "#print(text)\n",
    "\n",
    "df38 = pd.DataFrame({'Text': [text]})\n",
    "print(df38)\n",
    "\n"
   ]
  },
  {
   "cell_type": "code",
   "execution_count": 42,
   "id": "1dc6885d",
   "metadata": {},
   "outputs": [
    {
     "name": "stdout",
     "output_type": "stream",
     "text": [
      "                                                Text\n",
      "0  PAATAL LOK\\nEPISODE NINE (NEW)\\nDraft 4.0\\nWri...\n"
     ]
    }
   ],
   "source": [
    "\n",
    "\n",
    "pdf_file_path = r\"D:\\Risidio\\Prom Project\\script 5\\IndianMovieWebSeriesScripts\\PaatalLok\\Episode9.pdf\"\n",
    "csv_file_path = r\"D:\\Risidio\\Prom Project\\script 5\\IndianMovieWebSeriesScripts\\PaatalLok\\Episode9.csv\"\n",
    "with open(pdf_file_path, 'rb') as pdf_file:\n",
    "    pdf_reader = PyPDF2.PdfReader(pdf_file)\n",
    "\n",
    "    \n",
    "    text_pages = []\n",
    "    for page_num in range(len(pdf_reader.pages)):\n",
    "        page = pdf_reader.pages[page_num]\n",
    "        text = page.extract_text()\n",
    "        text_pages.append(text)\n",
    "\n",
    "\n",
    "with open(txt_file_path, 'w', encoding='utf-8') as txt_file:\n",
    "    for page_text in text_pages:\n",
    "        txt_file.write(page_text)\n",
    "with open(txt_file_path, 'r', encoding='utf-8') as txt_file:\n",
    "    text = txt_file.read()\n",
    "\n",
    "#print(text)\n",
    "\n",
    "df39 = pd.DataFrame({'Text': [text]})\n",
    "print(df39)\n",
    "\n",
    "\n",
    "\n"
   ]
  },
  {
   "cell_type": "code",
   "execution_count": 43,
   "id": "f2b22b1b",
   "metadata": {},
   "outputs": [
    {
     "name": "stdout",
     "output_type": "stream",
     "text": [
      "                                                Text\n",
      "0   dark reflection\\nby\\neric blakeney\\n4-7-15EXT...\n"
     ]
    }
   ],
   "source": [
    "\n",
    "\n",
    "pdf_file_path = r\"D:\\Risidio\\Prom Project\\Dark Reflection 5-6-18.pdf\"\n",
    "csv_file_path = r\"D:\\Risidio\\Prom Project\\Dark Reflection 5-6-18.csv\"\n",
    "with open(pdf_file_path, 'rb') as pdf_file:\n",
    "    pdf_reader = PyPDF2.PdfReader(pdf_file)\n",
    "\n",
    "    \n",
    "    text_pages = []\n",
    "    for page_num in range(len(pdf_reader.pages)):\n",
    "        page = pdf_reader.pages[page_num]\n",
    "        text = page.extract_text()\n",
    "        text_pages.append(text)\n",
    "\n",
    "\n",
    "with open(txt_file_path, 'w', encoding='utf-8') as txt_file:\n",
    "    for page_text in text_pages:\n",
    "        txt_file.write(page_text)\n",
    "with open(txt_file_path, 'r', encoding='utf-8') as txt_file:\n",
    "    text = txt_file.read()\n",
    "\n",
    "#print(text)\n",
    "\n",
    "df40 = pd.DataFrame({'Text': [text]})\n",
    "print(df40)\n",
    "\n"
   ]
  },
  {
   "cell_type": "code",
   "execution_count": 44,
   "id": "cdb1b65f",
   "metadata": {},
   "outputs": [
    {
     "name": "stdout",
     "output_type": "stream",
     "text": [
      "                                                Text\n",
      "0  \"FRENCH TWIST\"\\n       \\nby\\nEric Blakeney\\n6-...\n"
     ]
    }
   ],
   "source": [
    "\n",
    "\n",
    "pdf_file_path = r\"D:\\Risidio\\Prom Project\\French Twist-6-22-22.clean.pdf\"\n",
    "csv_file_path = r\"D:\\Risidio\\Prom Project\\French Twist-6-22-22.clean.csv\"\n",
    "with open(pdf_file_path, 'rb') as pdf_file:\n",
    "    pdf_reader = PyPDF2.PdfReader(pdf_file)\n",
    "\n",
    "    \n",
    "    text_pages = []\n",
    "    for page_num in range(len(pdf_reader.pages)):\n",
    "        page = pdf_reader.pages[page_num]\n",
    "        text = page.extract_text()\n",
    "        text_pages.append(text)\n",
    "\n",
    "\n",
    "with open(txt_file_path, 'w', encoding='utf-8') as txt_file:\n",
    "    for page_text in text_pages:\n",
    "        txt_file.write(page_text)\n",
    "with open(txt_file_path, 'r', encoding='utf-8') as txt_file:\n",
    "    text = txt_file.read()\n",
    "\n",
    "#print(text)\n",
    "\n",
    "df41 = pd.DataFrame({'Text': [text]})\n",
    "print(df41)\n",
    "\n",
    "\n",
    "\n"
   ]
  },
  {
   "cell_type": "code",
   "execution_count": 45,
   "id": "7cb736b6",
   "metadata": {},
   "outputs": [
    {
     "name": "stdout",
     "output_type": "stream",
     "text": [
      "                                                Text\n",
      "0  HONORED SOCIETY\\nHelier Bissell-Thomas\\nU.S. C...\n"
     ]
    }
   ],
   "source": [
    "\n",
    "\n",
    "pdf_file_path = r\"D:\\Risidio\\Prom Project\\HONORED SOCIETY.pdf\"\n",
    "csv_file_path = r\"D:\\Risidio\\Prom Project\\HONORED SOCIETY.csv\"\n",
    "with open(pdf_file_path, 'rb') as pdf_file:\n",
    "    pdf_reader = PyPDF2.PdfReader(pdf_file)\n",
    "\n",
    "    \n",
    "    text_pages = []\n",
    "    for page_num in range(len(pdf_reader.pages)):\n",
    "        page = pdf_reader.pages[page_num]\n",
    "        text = page.extract_text()\n",
    "        text_pages.append(text)\n",
    "\n",
    "\n",
    "with open(txt_file_path, 'w', encoding='utf-8') as txt_file:\n",
    "    for page_text in text_pages:\n",
    "        txt_file.write(page_text)\n",
    "with open(txt_file_path, 'r', encoding='utf-8') as txt_file:\n",
    "    text = txt_file.read()\n",
    "\n",
    "#print(text)\n",
    "\n",
    "df42 = pd.DataFrame({'Text': [text]})\n",
    "print(df42)\n",
    "\n"
   ]
  },
  {
   "cell_type": "code",
   "execution_count": 46,
   "id": "fa16326c",
   "metadata": {},
   "outputs": [
    {
     "name": "stdout",
     "output_type": "stream",
     "text": [
      "                                                Text\n",
      "0                   THE EMISSARY\\n               ...\n"
     ]
    }
   ],
   "source": [
    "\n",
    "\n",
    "pdf_file_path = r\"D:\\Risidio\\Prom Project\\THE EMISSARY2022 -1.pdf\"\n",
    "csv_file_path = r\"D:\\Risidio\\Prom Project\\THE EMISSARY2022 -1.csv\"\n",
    "with open(pdf_file_path, 'rb') as pdf_file:\n",
    "    pdf_reader = PyPDF2.PdfReader(pdf_file)\n",
    "\n",
    "    \n",
    "    text_pages = []\n",
    "    for page_num in range(len(pdf_reader.pages)):\n",
    "        page = pdf_reader.pages[page_num]\n",
    "        text = page.extract_text()\n",
    "        text_pages.append(text)\n",
    "\n",
    "\n",
    "with open(txt_file_path, 'w', encoding='utf-8') as txt_file:\n",
    "    for page_text in text_pages:\n",
    "        txt_file.write(page_text)\n",
    "with open(txt_file_path, 'r', encoding='utf-8') as txt_file:\n",
    "    text = txt_file.read()\n",
    "\n",
    "#print(text)\n",
    "\n",
    "df43 = pd.DataFrame({'Text': [text]})\n",
    "print(df43)\n",
    "\n"
   ]
  },
  {
   "cell_type": "code",
   "execution_count": 47,
   "id": "2eacd978",
   "metadata": {},
   "outputs": [
    {
     "name": "stdout",
     "output_type": "stream",
     "text": [
      "                                                Text\n",
      "0  The Narrows\\nwritten by\\nSamuel Pinney\\n2020-0...\n"
     ]
    }
   ],
   "source": [
    "\n",
    "pdf_file_path = r\"D:\\Risidio\\Prom Project\\The Narrows (Draft #5 - Richmond Tower).pdf\"\n",
    "csv_file_path = r\"D:\\Risidio\\Prom Project\\The Narrows (Draft #5 - Richmond Tower).csv\"\n",
    "with open(pdf_file_path, 'rb') as pdf_file:\n",
    "    pdf_reader = PyPDF2.PdfReader(pdf_file)\n",
    "\n",
    "    \n",
    "    text_pages = []\n",
    "    for page_num in range(len(pdf_reader.pages)):\n",
    "        page = pdf_reader.pages[page_num]\n",
    "        text = page.extract_text()\n",
    "        text_pages.append(text)\n",
    "\n",
    "\n",
    "with open(txt_file_path, 'w', encoding='utf-8') as txt_file:\n",
    "    for page_text in text_pages:\n",
    "        txt_file.write(page_text)\n",
    "with open(txt_file_path, 'r', encoding='utf-8') as txt_file:\n",
    "    text = txt_file.read()\n",
    "\n",
    "#print(text)\n",
    "\n",
    "df44 = pd.DataFrame({'Text': [text]})\n",
    "print(df44)\n",
    "\n",
    "\n"
   ]
  },
  {
   "cell_type": "code",
   "execution_count": 48,
   "id": "ea80b526",
   "metadata": {},
   "outputs": [
    {
     "data": {
      "text/html": [
       "<div>\n",
       "<style scoped>\n",
       "    .dataframe tbody tr th:only-of-type {\n",
       "        vertical-align: middle;\n",
       "    }\n",
       "\n",
       "    .dataframe tbody tr th {\n",
       "        vertical-align: top;\n",
       "    }\n",
       "\n",
       "    .dataframe thead th {\n",
       "        text-align: right;\n",
       "    }\n",
       "</style>\n",
       "<table border=\"1\" class=\"dataframe\">\n",
       "  <thead>\n",
       "    <tr style=\"text-align: right;\">\n",
       "      <th></th>\n",
       "      <th>Text</th>\n",
       "    </tr>\n",
       "  </thead>\n",
       "  <tbody>\n",
       "    <tr>\n",
       "      <th>0</th>\n",
       "      <td>The Narrows\\nwritten by\\nSamuel Pinney\\n2020-0...</td>\n",
       "    </tr>\n",
       "  </tbody>\n",
       "</table>\n",
       "</div>"
      ],
      "text/plain": [
       "                                                Text\n",
       "0  The Narrows\\nwritten by\\nSamuel Pinney\\n2020-0..."
      ]
     },
     "execution_count": 48,
     "metadata": {},
     "output_type": "execute_result"
    }
   ],
   "source": [
    "df44"
   ]
  },
  {
   "cell_type": "code",
   "execution_count": 52,
   "id": "1470bf89",
   "metadata": {},
   "outputs": [
    {
     "data": {
      "text/html": [
       "<div>\n",
       "<style scoped>\n",
       "    .dataframe tbody tr th:only-of-type {\n",
       "        vertical-align: middle;\n",
       "    }\n",
       "\n",
       "    .dataframe tbody tr th {\n",
       "        vertical-align: top;\n",
       "    }\n",
       "\n",
       "    .dataframe thead th {\n",
       "        text-align: right;\n",
       "    }\n",
       "</style>\n",
       "<table border=\"1\" class=\"dataframe\">\n",
       "  <thead>\n",
       "    <tr style=\"text-align: right;\">\n",
       "      <th></th>\n",
       "      <th>Text</th>\n",
       "    </tr>\n",
       "  </thead>\n",
       "  <tbody>\n",
       "    <tr>\n",
       "      <th>0</th>\n",
       "      <td>Dearest, I feel certain that I am going mad ag...</td>\n",
       "    </tr>\n",
       "  </tbody>\n",
       "</table>\n",
       "</div>"
      ],
      "text/plain": [
       "                                                Text\n",
       "0  Dearest, I feel certain that I am going mad ag..."
      ]
     },
     "execution_count": 52,
     "metadata": {},
     "output_type": "execute_result"
    }
   ],
   "source": [
    "df46 = pd.read_csv('D:\\Risidio\\Prom Project\\script 6\\moviedataset.csv')\n",
    "df46 = df46[['Scripts']]\n",
    "\n",
    "single_row = df46.iloc[:, 0].to_string(index=False, header=False)\n",
    "single_row\n",
    "df46 = pd.DataFrame([single_row], columns=['Text'])\n",
    "df46.head()"
   ]
  },
  {
   "cell_type": "code",
   "execution_count": 53,
   "id": "6f6fba7b",
   "metadata": {},
   "outputs": [
    {
     "data": {
      "text/html": [
       "<div>\n",
       "<style scoped>\n",
       "    .dataframe tbody tr th:only-of-type {\n",
       "        vertical-align: middle;\n",
       "    }\n",
       "\n",
       "    .dataframe tbody tr th {\n",
       "        vertical-align: top;\n",
       "    }\n",
       "\n",
       "    .dataframe thead th {\n",
       "        text-align: right;\n",
       "    }\n",
       "</style>\n",
       "<table border=\"1\" class=\"dataframe\">\n",
       "  <thead>\n",
       "    <tr style=\"text-align: right;\">\n",
       "      <th></th>\n",
       "      <th>Text</th>\n",
       "    </tr>\n",
       "  </thead>\n",
       "  <tbody>\n",
       "    <tr>\n",
       "      <th>0</th>\n",
       "      <td>I should have known that you would be here, Pr...</td>\n",
       "    </tr>\n",
       "  </tbody>\n",
       "</table>\n",
       "</div>"
      ],
      "text/plain": [
       "                                                Text\n",
       "0  I should have known that you would be here, Pr..."
      ]
     },
     "execution_count": 53,
     "metadata": {},
     "output_type": "execute_result"
    }
   ],
   "source": [
    "df45 = pd.read_csv(\"D:\\Risidio\\Prom Project\\script 7\\hp_script.csv\", encoding='latin-1')\n",
    "df45\n",
    "df45 = df45[['dialogue']]\n",
    "\n",
    "single_row = df45.iloc[:, 0].to_string(index=False, header=False)\n",
    "single_row\n",
    "df45 = pd.DataFrame([single_row], columns=['Text'])\n",
    "df45.head()\n"
   ]
  },
  {
   "cell_type": "code",
   "execution_count": 54,
   "id": "8b6a4181",
   "metadata": {},
   "outputs": [],
   "source": [
    "df9 = df9.rename(columns={0: 'Text'})\n",
    "df10 = df10.rename(columns={0: 'Text'})"
   ]
  },
  {
   "cell_type": "code",
   "execution_count": 55,
   "id": "dd943b4c",
   "metadata": {},
   "outputs": [
    {
     "data": {
      "text/html": [
       "<div>\n",
       "<style scoped>\n",
       "    .dataframe tbody tr th:only-of-type {\n",
       "        vertical-align: middle;\n",
       "    }\n",
       "\n",
       "    .dataframe tbody tr th {\n",
       "        vertical-align: top;\n",
       "    }\n",
       "\n",
       "    .dataframe thead th {\n",
       "        text-align: right;\n",
       "    }\n",
       "</style>\n",
       "<table border=\"1\" class=\"dataframe\">\n",
       "  <thead>\n",
       "    <tr style=\"text-align: right;\">\n",
       "      <th></th>\n",
       "      <th>Text</th>\n",
       "    </tr>\n",
       "  </thead>\n",
       "  <tbody>\n",
       "    <tr>\n",
       "      <th>0</th>\n",
       "      <td>file_2300.txt\\n file_809.txt\\nfile_1383.txt\\n ...</td>\n",
       "    </tr>\n",
       "    <tr>\n",
       "      <th>0</th>\n",
       "      <td>file_2300.txt\\n file_809.txt\\nfile_1383.txt\\n ...</td>\n",
       "    </tr>\n",
       "    <tr>\n",
       "      <th>0</th>\n",
       "      <td>0\\n    1\\n    2\\n    3\\n    4\\n    5\\n    ...</td>\n",
       "    </tr>\n",
       "    <tr>\n",
       "      <th>0</th>\n",
       "      <td>120770\\n  132512\\n  118661\\n  215545\\n  1187...</td>\n",
       "    </tr>\n",
       "    <tr>\n",
       "      <th>0</th>\n",
       "      <td>A Tree Grows in Brooklyn_003...</td>\n",
       "    </tr>\n",
       "    <tr>\n",
       "      <th>...</th>\n",
       "      <td>...</td>\n",
       "    </tr>\n",
       "    <tr>\n",
       "      <th>0</th>\n",
       "      <td>HONORED SOCIETY\\nHelier Bissell-Thomas\\nU.S. C...</td>\n",
       "    </tr>\n",
       "    <tr>\n",
       "      <th>0</th>\n",
       "      <td>THE EMISSARY\\n               ...</td>\n",
       "    </tr>\n",
       "    <tr>\n",
       "      <th>0</th>\n",
       "      <td>The Narrows\\nwritten by\\nSamuel Pinney\\n2020-0...</td>\n",
       "    </tr>\n",
       "    <tr>\n",
       "      <th>0</th>\n",
       "      <td>I should have known that you would be here, Pr...</td>\n",
       "    </tr>\n",
       "    <tr>\n",
       "      <th>0</th>\n",
       "      <td>Dearest, I feel certain that I am going mad ag...</td>\n",
       "    </tr>\n",
       "  </tbody>\n",
       "</table>\n",
       "<p>9180 rows × 1 columns</p>\n",
       "</div>"
      ],
      "text/plain": [
       "                                                 Text\n",
       "0   file_2300.txt\\n file_809.txt\\nfile_1383.txt\\n ...\n",
       "0   file_2300.txt\\n file_809.txt\\nfile_1383.txt\\n ...\n",
       "0       0\\n    1\\n    2\\n    3\\n    4\\n    5\\n    ...\n",
       "0     120770\\n  132512\\n  118661\\n  215545\\n  1187...\n",
       "0                     A Tree Grows in Brooklyn_003...\n",
       "..                                                ...\n",
       "0   HONORED SOCIETY\\nHelier Bissell-Thomas\\nU.S. C...\n",
       "0                    THE EMISSARY\\n               ...\n",
       "0   The Narrows\\nwritten by\\nSamuel Pinney\\n2020-0...\n",
       "0   I should have known that you would be here, Pr...\n",
       "0   Dearest, I feel certain that I am going mad ag...\n",
       "\n",
       "[9180 rows x 1 columns]"
      ]
     },
     "execution_count": 55,
     "metadata": {},
     "output_type": "execute_result"
    }
   ],
   "source": [
    "df = pd.concat([df1,df2,df3,df4,df5,df6,df7,df8,df9,df10,df11,df12,df13,df14,df15,df16,df17,df18,df19,df20,df21,df22,df23,df24,df25,df26,df27,df28,df29,df30,df31,df32,df33,df34,df35,df36,df37,df38,df39,df40,df41,df42, df43,df44,df45,df46])\n",
    "df\n"
   ]
  },
  {
   "cell_type": "code",
   "execution_count": 56,
   "id": "139f25df",
   "metadata": {},
   "outputs": [
    {
     "data": {
      "text/html": [
       "<div>\n",
       "<style scoped>\n",
       "    .dataframe tbody tr th:only-of-type {\n",
       "        vertical-align: middle;\n",
       "    }\n",
       "\n",
       "    .dataframe tbody tr th {\n",
       "        vertical-align: top;\n",
       "    }\n",
       "\n",
       "    .dataframe thead th {\n",
       "        text-align: right;\n",
       "    }\n",
       "</style>\n",
       "<table border=\"1\" class=\"dataframe\">\n",
       "  <thead>\n",
       "    <tr style=\"text-align: right;\">\n",
       "      <th></th>\n",
       "      <th>index</th>\n",
       "      <th>Text</th>\n",
       "    </tr>\n",
       "  </thead>\n",
       "  <tbody>\n",
       "    <tr>\n",
       "      <th>0</th>\n",
       "      <td>0</td>\n",
       "      <td>file_2300.txt\\n file_809.txt\\nfile_1383.txt\\n ...</td>\n",
       "    </tr>\n",
       "    <tr>\n",
       "      <th>1</th>\n",
       "      <td>0</td>\n",
       "      <td>file_2300.txt\\n file_809.txt\\nfile_1383.txt\\n ...</td>\n",
       "    </tr>\n",
       "    <tr>\n",
       "      <th>2</th>\n",
       "      <td>0</td>\n",
       "      <td>0\\n    1\\n    2\\n    3\\n    4\\n    5\\n    ...</td>\n",
       "    </tr>\n",
       "    <tr>\n",
       "      <th>3</th>\n",
       "      <td>0</td>\n",
       "      <td>120770\\n  132512\\n  118661\\n  215545\\n  1187...</td>\n",
       "    </tr>\n",
       "    <tr>\n",
       "      <th>4</th>\n",
       "      <td>0</td>\n",
       "      <td>A Tree Grows in Brooklyn_003...</td>\n",
       "    </tr>\n",
       "    <tr>\n",
       "      <th>...</th>\n",
       "      <td>...</td>\n",
       "      <td>...</td>\n",
       "    </tr>\n",
       "    <tr>\n",
       "      <th>9175</th>\n",
       "      <td>0</td>\n",
       "      <td>HONORED SOCIETY\\nHelier Bissell-Thomas\\nU.S. C...</td>\n",
       "    </tr>\n",
       "    <tr>\n",
       "      <th>9176</th>\n",
       "      <td>0</td>\n",
       "      <td>THE EMISSARY\\n               ...</td>\n",
       "    </tr>\n",
       "    <tr>\n",
       "      <th>9177</th>\n",
       "      <td>0</td>\n",
       "      <td>The Narrows\\nwritten by\\nSamuel Pinney\\n2020-0...</td>\n",
       "    </tr>\n",
       "    <tr>\n",
       "      <th>9178</th>\n",
       "      <td>0</td>\n",
       "      <td>I should have known that you would be here, Pr...</td>\n",
       "    </tr>\n",
       "    <tr>\n",
       "      <th>9179</th>\n",
       "      <td>0</td>\n",
       "      <td>Dearest, I feel certain that I am going mad ag...</td>\n",
       "    </tr>\n",
       "  </tbody>\n",
       "</table>\n",
       "<p>9180 rows × 2 columns</p>\n",
       "</div>"
      ],
      "text/plain": [
       "      index                                               Text\n",
       "0         0  file_2300.txt\\n file_809.txt\\nfile_1383.txt\\n ...\n",
       "1         0  file_2300.txt\\n file_809.txt\\nfile_1383.txt\\n ...\n",
       "2         0      0\\n    1\\n    2\\n    3\\n    4\\n    5\\n    ...\n",
       "3         0    120770\\n  132512\\n  118661\\n  215545\\n  1187...\n",
       "4         0                    A Tree Grows in Brooklyn_003...\n",
       "...     ...                                                ...\n",
       "9175      0  HONORED SOCIETY\\nHelier Bissell-Thomas\\nU.S. C...\n",
       "9176      0                   THE EMISSARY\\n               ...\n",
       "9177      0  The Narrows\\nwritten by\\nSamuel Pinney\\n2020-0...\n",
       "9178      0  I should have known that you would be here, Pr...\n",
       "9179      0  Dearest, I feel certain that I am going mad ag...\n",
       "\n",
       "[9180 rows x 2 columns]"
      ]
     },
     "execution_count": 56,
     "metadata": {},
     "output_type": "execute_result"
    }
   ],
   "source": [
    "df = df.reset_index()\n",
    "df"
   ]
  },
  {
   "cell_type": "code",
   "execution_count": 57,
   "id": "e60aaa4d",
   "metadata": {},
   "outputs": [],
   "source": [
    "df.to_csv('finaldataset.csv', index=False)  "
   ]
  },
  {
   "cell_type": "code",
   "execution_count": null,
   "id": "04386f48",
   "metadata": {},
   "outputs": [],
   "source": []
  }
 ],
 "metadata": {
  "kernelspec": {
   "display_name": "Python 3 (ipykernel)",
   "language": "python",
   "name": "python3"
  },
  "language_info": {
   "codemirror_mode": {
    "name": "ipython",
    "version": 3
   },
   "file_extension": ".py",
   "mimetype": "text/x-python",
   "name": "python",
   "nbconvert_exporter": "python",
   "pygments_lexer": "ipython3",
   "version": "3.9.12"
  }
 },
 "nbformat": 4,
 "nbformat_minor": 5
}
